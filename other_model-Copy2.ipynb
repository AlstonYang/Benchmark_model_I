{
 "cells": [
  {
   "cell_type": "markdown",
   "metadata": {},
   "source": [
    "* [Purpose] The proposed MW-GA-GRU model is compared with ARIMA, GARCH, ANN, SVR, RNN, LSTM, and GRU based on the data of copper price in Changjiang."
   ]
  },
  {
   "cell_type": "markdown",
   "metadata": {},
   "source": [
    "### Import related package."
   ]
  },
  {
   "cell_type": "code",
   "execution_count": 8,
   "metadata": {},
   "outputs": [],
   "source": [
    "## Data preprocessing\n",
    "import numpy as np\n",
    "import pandas as pd\n",
    "from sklearn.preprocessing import MinMaxScaler\n",
    "\n",
    "## Visulization\n",
    "import matplotlib.pyplot as plt\n",
    "\n",
    "## ARIMA and SARIMA\n",
    "from statsmodels.graphics.tsaplots import plot_acf, plot_pacf\n",
    "from pmdarima.arima import ndiffs\n",
    "from statsmodels.tsa.arima_model import ARIMA\n",
    "import pmdarima as pm ##Automatically decide on ARIMA configuration\n",
    "import statsmodels.api as sm\n",
    "\n",
    "## The warning infomation dialog\n",
    "import warnings\n",
    "warnings.filterwarnings(\"ignore\")\n",
    "\n",
    "import tensorflow as tf\n",
    "from tensorflow import keras\n",
    "from keras.models import Sequential\n",
    "from keras.layers import Dense, Dropout, GRU, Flatten, Input\n",
    "from keras.utils.np_utils import to_categorical\n",
    "from keras.callbacks import EarlyStopping\n",
    "from tensorflow.keras.metrics import Metric\n",
    "\n",
    "gpu_options = tf.compat.v1.GPUOptions(per_process_gpu_memory_fraction=0.3)\n",
    "sess = tf.compat.v1.Session(config=tf.compat.v1.ConfigProto(gpu_options=gpu_options))\n",
    "tf.compat.v1.keras.backend.set_session(sess)"
   ]
  },
  {
   "cell_type": "code",
   "execution_count": 9,
   "metadata": {},
   "outputs": [],
   "source": [
    "def read(path):\n",
    "    return pd.read_csv(path)"
   ]
  },
  {
   "cell_type": "markdown",
   "metadata": {},
   "source": [
    "#### Read performance indicator data"
   ]
  },
  {
   "cell_type": "code",
   "execution_count": 3,
   "metadata": {},
   "outputs": [],
   "source": [
    "performance = pd.read_csv(\"result_data.csv\")\n",
    "performance.columns = [\"Actual\", \"MW-GA-GRU\"]"
   ]
  },
  {
   "cell_type": "markdown",
   "metadata": {},
   "source": [
    "#### Create function \"read()\" to read the training data"
   ]
  },
  {
   "cell_type": "code",
   "execution_count": 118,
   "metadata": {},
   "outputs": [],
   "source": [
    "path = \"WeeklyFinalData.csv\"\n",
    "data = read(path)\n",
    "train = data[\"CCSP\"][:-91]\n",
    "test = data[\"CCSP\"][-95:]\n",
    "data = data[\"CCSP\"]"
   ]
  },
  {
   "cell_type": "markdown",
   "metadata": {},
   "source": [
    "### Build the mention above model like ARIMA, GARCH, ANN, SVR, RNN, LSTM, and GRU."
   ]
  },
  {
   "cell_type": "markdown",
   "metadata": {},
   "source": [
    "### Model the SARIMA model"
   ]
  },
  {
   "cell_type": "code",
   "execution_count": 119,
   "metadata": {},
   "outputs": [
    {
     "data": {
      "text/html": [
       "<table class=\"simpletable\">\n",
       "<caption>SARIMAX Results</caption>\n",
       "<tr>\n",
       "  <th>Dep. Variable:</th>                  <td>CCSP</td>                 <th>  No. Observations:  </th>    <td>388</td>   \n",
       "</tr>\n",
       "<tr>\n",
       "  <th>Model:</th>           <td>SARIMAX(1, 1, 0)x(0, 1, [1, 2], 53)</td> <th>  Log Likelihood     </th> <td>-2862.482</td>\n",
       "</tr>\n",
       "<tr>\n",
       "  <th>Date:</th>                     <td>Wed, 04 Aug 2021</td>           <th>  AIC                </th> <td>5732.963</td> \n",
       "</tr>\n",
       "<tr>\n",
       "  <th>Time:</th>                         <td>05:34:29</td>               <th>  BIC                </th> <td>5748.208</td> \n",
       "</tr>\n",
       "<tr>\n",
       "  <th>Sample:</th>                           <td>0</td>                  <th>  HQIC               </th> <td>5739.041</td> \n",
       "</tr>\n",
       "<tr>\n",
       "  <th></th>                               <td> - 388</td>                <th>                     </th>     <td> </td>    \n",
       "</tr>\n",
       "<tr>\n",
       "  <th>Covariance Type:</th>                 <td>opg</td>                 <th>                     </th>     <td> </td>    \n",
       "</tr>\n",
       "</table>\n",
       "<table class=\"simpletable\">\n",
       "<tr>\n",
       "      <td></td>         <th>coef</th>     <th>std err</th>      <th>z</th>      <th>P>|z|</th>  <th>[0.025</th>    <th>0.975]</th>  \n",
       "</tr>\n",
       "<tr>\n",
       "  <th>ar.L1</th>     <td>    0.0316</td> <td>    0.027</td> <td>    1.159</td> <td> 0.246</td> <td>   -0.022</td> <td>    0.085</td>\n",
       "</tr>\n",
       "<tr>\n",
       "  <th>ma.S.L53</th>  <td>   -0.2406</td> <td>    0.016</td> <td>  -14.642</td> <td> 0.000</td> <td>   -0.273</td> <td>   -0.208</td>\n",
       "</tr>\n",
       "<tr>\n",
       "  <th>ma.S.L106</th> <td>   -0.1581</td> <td>    0.012</td> <td>  -12.695</td> <td> 0.000</td> <td>   -0.183</td> <td>   -0.134</td>\n",
       "</tr>\n",
       "<tr>\n",
       "  <th>sigma2</th>    <td>  1.75e+06</td> <td> 9.45e+04</td> <td>   18.527</td> <td> 0.000</td> <td> 1.57e+06</td> <td> 1.94e+06</td>\n",
       "</tr>\n",
       "</table>\n",
       "<table class=\"simpletable\">\n",
       "<tr>\n",
       "  <th>Ljung-Box (L1) (Q):</th>     <td>2.97</td> <th>  Jarque-Bera (JB):  </th> <td>272.32</td>\n",
       "</tr>\n",
       "<tr>\n",
       "  <th>Prob(Q):</th>                <td>0.08</td> <th>  Prob(JB):          </th>  <td>0.00</td> \n",
       "</tr>\n",
       "<tr>\n",
       "  <th>Heteroskedasticity (H):</th> <td>0.43</td> <th>  Skew:              </th>  <td>-0.25</td>\n",
       "</tr>\n",
       "<tr>\n",
       "  <th>Prob(H) (two-sided):</th>    <td>0.00</td> <th>  Kurtosis:          </th>  <td>7.40</td> \n",
       "</tr>\n",
       "</table><br/><br/>Warnings:<br/>[1] Covariance matrix calculated using the outer product of gradients (complex-step)."
      ],
      "text/plain": [
       "<class 'statsmodels.iolib.summary.Summary'>\n",
       "\"\"\"\n",
       "                                        SARIMAX Results                                        \n",
       "===============================================================================================\n",
       "Dep. Variable:                                    CCSP   No. Observations:                  388\n",
       "Model:             SARIMAX(1, 1, 0)x(0, 1, [1, 2], 53)   Log Likelihood               -2862.482\n",
       "Date:                                 Wed, 04 Aug 2021   AIC                           5732.963\n",
       "Time:                                         05:34:29   BIC                           5748.208\n",
       "Sample:                                              0   HQIC                          5739.041\n",
       "                                                 - 388                                         \n",
       "Covariance Type:                                   opg                                         \n",
       "==============================================================================\n",
       "                 coef    std err          z      P>|z|      [0.025      0.975]\n",
       "------------------------------------------------------------------------------\n",
       "ar.L1          0.0316      0.027      1.159      0.246      -0.022       0.085\n",
       "ma.S.L53      -0.2406      0.016    -14.642      0.000      -0.273      -0.208\n",
       "ma.S.L106     -0.1581      0.012    -12.695      0.000      -0.183      -0.134\n",
       "sigma2       1.75e+06   9.45e+04     18.527      0.000    1.57e+06    1.94e+06\n",
       "===================================================================================\n",
       "Ljung-Box (L1) (Q):                   2.97   Jarque-Bera (JB):               272.32\n",
       "Prob(Q):                              0.08   Prob(JB):                         0.00\n",
       "Heteroskedasticity (H):               0.43   Skew:                            -0.25\n",
       "Prob(H) (two-sided):                  0.00   Kurtosis:                         7.40\n",
       "===================================================================================\n",
       "\n",
       "Warnings:\n",
       "[1] Covariance matrix calculated using the outer product of gradients (complex-step).\n",
       "\"\"\""
      ]
     },
     "execution_count": 119,
     "metadata": {},
     "output_type": "execute_result"
    }
   ],
   "source": [
    "model = sm.tsa.statespace.SARIMAX(train, order=(1,1,0), seasonal_order=(0,1,2,53))\n",
    "model_fit = model.fit()\n",
    "model_fit.summary()"
   ]
  },
  {
   "cell_type": "markdown",
   "metadata": {},
   "source": [
    "### Forecast"
   ]
  },
  {
   "cell_type": "code",
   "execution_count": 120,
   "metadata": {},
   "outputs": [],
   "source": [
    "pre = model_fit.forecast(99)"
   ]
  },
  {
   "cell_type": "code",
   "execution_count": 123,
   "metadata": {},
   "outputs": [],
   "source": [
    "pre.reset_index(inplace=True, drop=True)"
   ]
  },
  {
   "cell_type": "code",
   "execution_count": 126,
   "metadata": {},
   "outputs": [],
   "source": [
    "pre[4:]\n",
    "pre.reset_index(inplace=True, drop=True)"
   ]
  },
  {
   "cell_type": "code",
   "execution_count": 128,
   "metadata": {},
   "outputs": [],
   "source": [
    "performance[\"SARIMA\"]=pre"
   ]
  },
  {
   "cell_type": "markdown",
   "metadata": {},
   "source": [
    "# Read and pre-process data"
   ]
  },
  {
   "cell_type": "code",
   "execution_count": 29,
   "metadata": {},
   "outputs": [],
   "source": [
    "def buildTrain(train, pastWeek=4, futureWeek=4, defaultWeek=1):\n",
    "    X_train, Y_train = [], []\n",
    "    for i in range(train.shape[0]-futureWeek-pastWeek):\n",
    "       \n",
    "        X = np.array(train.iloc[i:i+defaultWeek])\n",
    "        X = np.append(X,train[\"CCSP\"].iloc[i+defaultWeek:i+pastWeek])\n",
    "        \n",
    "        X_train.append(X.reshape(X.size))\n",
    "        Y_train.append(np.array(train.iloc[i+pastWeek:i+pastWeek+futureWeek][\"CCSP\"]))\n",
    "    \n",
    "    return np.array(X_train), np.array(Y_train)"
   ]
  },
  {
   "cell_type": "code",
   "execution_count": 30,
   "metadata": {},
   "outputs": [],
   "source": [
    "def get_data():\n",
    "    \n",
    "    ## Read weekly copper price data\n",
    "    path = \"WeeklyFinalData.csv\"\n",
    "    data = read(path)\n",
    "    \n",
    "    date = data[\"Date\"]\n",
    "    data.drop(\"Date\", axis=1, inplace=True)\n",
    "    \n",
    "    ## Add time lag (pastWeek=4, futureWeek=1)\n",
    "    x_data, y_data = buildTrain(data)\n",
    "    \n",
    "    ## Data split\n",
    "    x_train = x_data[0:int(x_data.shape[0]*0.8)]\n",
    "    x_test = x_data[int(x_data.shape[0]*0.8):]\n",
    "    \n",
    "    y_train = y_data[0:int(y_data.shape[0]*0.8)]\n",
    "    y_test = y_data[int(y_data.shape[0]*0.8):]\n",
    "    \n",
    "    return (x_train, x_test, y_train, y_test)"
   ]
  },
  {
   "cell_type": "code",
   "execution_count": 31,
   "metadata": {},
   "outputs": [],
   "source": [
    "sc = MinMaxScaler(feature_range = (0, 1))"
   ]
  },
  {
   "cell_type": "code",
   "execution_count": 41,
   "metadata": {},
   "outputs": [],
   "source": [
    "x_train, x_test, y_train, y_test = get_data()\n",
    "y_train = y_train[:,3].reshape(-1,1)\n",
    "y_test = y_test[:,3].reshape(-1,1)\n",
    "\n",
    "x_train_scaled = sc.fit_transform(x_train)\n",
    "x_test_scaled = sc.transform(x_test)\n",
    "y_train_scaled = sc.fit_transform(y_train)"
   ]
  },
  {
   "cell_type": "code",
   "execution_count": 42,
   "metadata": {},
   "outputs": [],
   "source": [
    "performance = pd.DataFrame()\n",
    "performance[\"Actual\"] = y_test.flatten()"
   ]
  },
  {
   "cell_type": "markdown",
   "metadata": {},
   "source": [
    "# Modeling for SVR"
   ]
  },
  {
   "cell_type": "code",
   "execution_count": 43,
   "metadata": {},
   "outputs": [],
   "source": [
    "from sklearn.svm import SVR"
   ]
  },
  {
   "cell_type": "code",
   "execution_count": 44,
   "metadata": {},
   "outputs": [
    {
     "data": {
      "text/plain": [
       "SVR(C=1000.0, gamma=0.1)"
      ]
     },
     "execution_count": 44,
     "metadata": {},
     "output_type": "execute_result"
    }
   ],
   "source": [
    "svr_rbf = SVR(kernel = 'rbf', C=1e3 , gamma = 0.1)\n",
    "svr_rbf.fit(x_train_scaled, y_train_scaled)"
   ]
  },
  {
   "cell_type": "code",
   "execution_count": 45,
   "metadata": {},
   "outputs": [],
   "source": [
    "SVR_predict = svr_rbf.predict(x_test_scaled).reshape(-1,1)\n",
    "performance[\"SVR\"] = sc.inverse_transform(SVR_predict).flatten()"
   ]
  },
  {
   "cell_type": "markdown",
   "metadata": {},
   "source": [
    "# 3. Modeling for ANN"
   ]
  },
  {
   "cell_type": "markdown",
   "metadata": {},
   "source": [
    "### ANN"
   ]
  },
  {
   "cell_type": "code",
   "execution_count": 47,
   "metadata": {},
   "outputs": [],
   "source": [
    "def buildTwoLayerNN(input_shape):\n",
    "\n",
    "    keras.backend.clear_session()\n",
    "    model = Sequential()\n",
    "    model.add(Dense(units=36, activation =\"relu\", input_shape=(input_shape,)))\n",
    "    model.add(Dense(units=1)) \n",
    "\n",
    "    model.compile(optimizer=\"Adam\", loss=\"mean_squared_error\")\n",
    "\n",
    "    return model"
   ]
  },
  {
   "cell_type": "code",
   "execution_count": 48,
   "metadata": {},
   "outputs": [],
   "source": [
    "input_shape = x_train_scaled.shape[1]\n",
    "model = buildTwoLayerNN(input_shape)"
   ]
  },
  {
   "cell_type": "code",
   "execution_count": 49,
   "metadata": {},
   "outputs": [
    {
     "data": {
      "text/plain": [
       "<tensorflow.python.keras.callbacks.History at 0x7f7b9c3940f0>"
      ]
     },
     "execution_count": 49,
     "metadata": {},
     "output_type": "execute_result"
    }
   ],
   "source": [
    "model.fit(x_train_scaled, y_train_scaled, epochs=100, verbose=0)"
   ]
  },
  {
   "cell_type": "code",
   "execution_count": 50,
   "metadata": {},
   "outputs": [],
   "source": [
    "# model.save(\"ann_model_weight.h5\")\n",
    "ANN_predict = model.predict(x_test_scaled)\n",
    "performance[\"ANN\"] = sc.inverse_transform(ANN_predict).flatten()"
   ]
  },
  {
   "cell_type": "markdown",
   "metadata": {},
   "source": [
    "# Prepare the corresponding data for RNN-based NN"
   ]
  },
  {
   "cell_type": "code",
   "execution_count": 69,
   "metadata": {},
   "outputs": [],
   "source": [
    "def buildTrain(train, pastWeek, futureWeek=4, defaultWeek=1):\n",
    "    X_train, Y_train = [], []\n",
    "    for i in range(train.shape[0]-futureWeek-pastWeek):\n",
    "        \n",
    "        X = np.array(train.iloc[i:i+pastWeek,:])\n",
    "        \n",
    "        X_train.append(X.reshape(X.size))\n",
    "        Y_train.append(np.array(train.iloc[i+pastWeek+futureWeek-1][\"CCSP\"]))\n",
    "    return (np.array(X_train), np.array(Y_train))"
   ]
  },
  {
   "cell_type": "code",
   "execution_count": 104,
   "metadata": {},
   "outputs": [],
   "source": [
    "def get_data(timeLag):\n",
    "    \n",
    "    ## Read weekly copper price data\n",
    "    path = \"WeeklyFinalData.csv\"\n",
    "    data = read(path)\n",
    "    \n",
    "    date = data[\"Date\"]\n",
    "    data.drop(\"Date\", axis=1, inplace=True)\n",
    "    \n",
    "    ## Add time lag (pastWeek=4, futureWeek=1)\n",
    "    x_data, y_data = buildTrain(data, timeLag)\n",
    "    \n",
    "    ## Data split\n",
    "    x_train = x_data[0:int(x_data.shape[0]*0.8)]\n",
    "    x_test = x_data[int(x_data.shape[0]*0.8):]\n",
    "    \n",
    "    y_train = y_data[0:int(y_data.shape[0]*0.8)]\n",
    "    y_test = y_data[int(y_data.shape[0]*0.8):]\n",
    "    \n",
    "    return (x_train, x_test, y_train, y_test)"
   ]
  },
  {
   "cell_type": "code",
   "execution_count": 105,
   "metadata": {},
   "outputs": [],
   "source": [
    "x_train, x_test, y_train, y_test = get_data(4)\n",
    "y_train = y_train.reshape(-1,1)\n",
    "y_test = y_test.reshape(-1,1)\n",
    "## The number of forecasting variable (# of variable)\n",
    "nb_input_factor = 15\n",
    "\n",
    "## Data transformation\n",
    "x_train_scaled = sc.fit_transform(x_train).reshape(-1,4,nb_input_factor)\n",
    "x_test_scaled = sc.transform(x_test).reshape(-1,4,nb_input_factor)\n",
    "y_train_scaled = sc.fit_transform(y_train)"
   ]
  },
  {
   "cell_type": "code",
   "execution_count": 106,
   "metadata": {},
   "outputs": [
    {
     "name": "stdout",
     "output_type": "stream",
     "text": [
      "x_train: (376, 4, 15)\n",
      "x_test: (95, 4, 15)\n",
      "y_train: (376, 1)\n",
      "y_test: (95, 1)\n"
     ]
    }
   ],
   "source": [
    "print(\"x_train:\",x_train_scaled.shape)\n",
    "print(\"x_test:\",x_test_scaled.shape)\n",
    "print(\"y_train:\",y_train_scaled.shape)\n",
    "print(\"y_test:\",y_test.shape)"
   ]
  },
  {
   "cell_type": "markdown",
   "metadata": {},
   "source": [
    "# 4. Modeling for RNN"
   ]
  },
  {
   "cell_type": "code",
   "execution_count": 107,
   "metadata": {},
   "outputs": [],
   "source": [
    "import tensorflow as tf\n",
    "from tensorflow import keras"
   ]
  },
  {
   "cell_type": "code",
   "execution_count": 108,
   "metadata": {},
   "outputs": [],
   "source": [
    "from keras.layers import SimpleRNN"
   ]
  },
  {
   "cell_type": "code",
   "execution_count": 132,
   "metadata": {},
   "outputs": [],
   "source": [
    "def buildRNN(shape):\n",
    "    \n",
    "    keras.backend.clear_session()\n",
    "    model = keras.Sequential()\n",
    "    model.add(SimpleRNN(36, input_shape=(shape[1], shape[2])))\n",
    "    model.add(Dense(1))\n",
    "    model.compile(optimizer=\"Adam\", loss=\"mse\")\n",
    "#     model.summary()\n",
    "    return model"
   ]
  },
  {
   "cell_type": "code",
   "execution_count": 133,
   "metadata": {},
   "outputs": [
    {
     "name": "stdout",
     "output_type": "stream",
     "text": [
      "WARNING:tensorflow:5 out of the last 15 calls to <function Model.make_predict_function.<locals>.predict_function at 0x7f7b9469a158> triggered tf.function retracing. Tracing is expensive and the excessive number of tracings could be due to (1) creating @tf.function repeatedly in a loop, (2) passing tensors with different shapes, (3) passing Python objects instead of tensors. For (1), please define your @tf.function outside of the loop. For (2), @tf.function has experimental_relax_shapes=True option that relaxes argument shapes that can avoid unnecessary retracing. For (3), please refer to https://www.tensorflow.org/tutorials/customization/performance#python_or_tensor_args and https://www.tensorflow.org/api_docs/python/tf/function for  more details.\n"
     ]
    }
   ],
   "source": [
    "model = buildRNN(x_train_scaled.shape)\n",
    "model.fit(x_train_scaled, y_train_scaled, epochs=300, batch_size=14, verbose=0)\n",
    "RNN_predict = model.predict(x_test_scaled)\n",
    "performance[\"RNN\"] = sc.inverse_transform(RNN_predict).flatten()"
   ]
  },
  {
   "cell_type": "markdown",
   "metadata": {},
   "source": [
    "# 5. Modeling for LSTM"
   ]
  },
  {
   "cell_type": "code",
   "execution_count": 112,
   "metadata": {},
   "outputs": [],
   "source": [
    "from keras.layers import LSTM"
   ]
  },
  {
   "cell_type": "code",
   "execution_count": 113,
   "metadata": {},
   "outputs": [],
   "source": [
    "def buildLSTM(shape):\n",
    "    \n",
    "    model = Sequential()\n",
    "    model.add(LSTM(36, input_shape=(shape[1], shape[2])))\n",
    "    model.add(Dense(1))\n",
    "    model.compile(optimizer=\"Adam\", loss=\"mse\")\n",
    "#     model.summary()\n",
    "    return model"
   ]
  },
  {
   "cell_type": "code",
   "execution_count": 114,
   "metadata": {},
   "outputs": [],
   "source": [
    "model = buildLSTM(x_train_scaled.shape)\n",
    "model.fit(x_train_scaled, y_train_scaled, epochs=300, batch_size=14, verbose=0)\n",
    "LSTM_predict = model.predict(x_test_scaled)\n",
    "performance[\"LSTM\"] = sc.inverse_transform(LSTM_predict).flatten()"
   ]
  },
  {
   "cell_type": "markdown",
   "metadata": {},
   "source": [
    "# 6. Modeling for GRU"
   ]
  },
  {
   "cell_type": "code",
   "execution_count": 115,
   "metadata": {},
   "outputs": [],
   "source": [
    "from keras.layers import GRU"
   ]
  },
  {
   "cell_type": "code",
   "execution_count": 116,
   "metadata": {},
   "outputs": [],
   "source": [
    "def buildGRU(shape):\n",
    "    \n",
    "    model = Sequential()\n",
    "    model.add(GRU(36, input_shape=(shape[1], shape[2])))\n",
    "    model.add(Dense(1))\n",
    "    model.compile(optimizer=\"Adam\", loss=\"mse\")\n",
    "#     model.summary()\n",
    "    return model"
   ]
  },
  {
   "cell_type": "code",
   "execution_count": 117,
   "metadata": {},
   "outputs": [],
   "source": [
    "model = buildGRU(x_train_scaled.shape)\n",
    "model.fit(x_train_scaled, y_train_scaled, epochs=300, batch_size=14, verbose=0)\n",
    "GRU_predict = model.predict(x_test_scaled)\n",
    "performance[\"GRU\"] = sc.inverse_transform(GRU_predict).flatten()"
   ]
  },
  {
   "cell_type": "markdown",
   "metadata": {},
   "source": [
    "# Plot a graph comparing the predicted value with the actual value."
   ]
  },
  {
   "cell_type": "code",
   "execution_count": 134,
   "metadata": {},
   "outputs": [
    {
     "data": {
      "image/png": "[encoded data removed]",
      "text/plain": [
       "<Figure size 1080x576 with 1 Axes>"
      ]
     },
     "metadata": {
      "needs_background": "light"
     },
     "output_type": "display_data"
    }
   ],
   "source": [
    "plt.figure(figsize=(15,8))\n",
    "\n",
    "plt.plot(range(performance[\"Actual\"].shape[0]), performance[\"Actual\"], \"-o\",color='black', label = 'Actual')\n",
    "\n",
    "for i in range(1,performance.shape[1]):\n",
    "    t_data = performance.iloc[:,i]\n",
    "    plt.plot(t_data, label=performance.columns[i])\n",
    "\n",
    "plt.legend()\n",
    "plt.xlabel(\"Sample index (weekly)\")\n",
    "plt.ylabel(\"Cooper price value\")\n",
    "plt.savefig('RMSE.png')"
   ]
  },
  {
   "cell_type": "markdown",
   "metadata": {},
   "source": [
    "# Create the function to evaluate the performance of each model based on the RMSE, MAE, MAPE, and the accuracy from 500 to 3000 tolerance."
   ]
  },
  {
   "cell_type": "code",
   "execution_count": 139,
   "metadata": {},
   "outputs": [
    {
     "data": {
      "text/html": [
       "<div>\n",
       "<style scoped>\n",
       "    .dataframe tbody tr th:only-of-type {\n",
       "        vertical-align: middle;\n",
       "    }\n",
       "\n",
       "    .dataframe tbody tr th {\n",
       "        vertical-align: top;\n",
       "    }\n",
       "\n",
       "    .dataframe thead th {\n",
       "        text-align: right;\n",
       "    }\n",
       "</style>\n",
       "<table border=\"1\" class=\"dataframe\">\n",
       "  <thead>\n",
       "    <tr style=\"text-align: right;\">\n",
       "      <th></th>\n",
       "      <th>Model</th>\n",
       "      <th>MAE</th>\n",
       "      <th>MAPE</th>\n",
       "      <th>RMSE</th>\n",
       "      <th>Maximum error</th>\n",
       "      <th>Accuracy(500)</th>\n",
       "      <th>Accuracy(1000)</th>\n",
       "      <th>Accuracy(1500)</th>\n",
       "      <th>Accuracy(2000)</th>\n",
       "      <th>Accuracy(2500)</th>\n",
       "      <th>Accuracy(3000)</th>\n",
       "    </tr>\n",
       "  </thead>\n",
       "  <tbody>\n",
       "    <tr>\n",
       "      <th>0</th>\n",
       "      <td>SVR</td>\n",
       "      <td>3359.374023</td>\n",
       "      <td>6.846053</td>\n",
       "      <td>4318.430965</td>\n",
       "      <td>3359.374023</td>\n",
       "      <td>0.094737</td>\n",
       "      <td>0.189474</td>\n",
       "      <td>0.315789</td>\n",
       "      <td>0.452632</td>\n",
       "      <td>0.484211</td>\n",
       "      <td>0.547368</td>\n",
       "    </tr>\n",
       "    <tr>\n",
       "      <th>1</th>\n",
       "      <td>ANN</td>\n",
       "      <td>3658.720947</td>\n",
       "      <td>7.563893</td>\n",
       "      <td>4713.149902</td>\n",
       "      <td>3658.720947</td>\n",
       "      <td>0.031579</td>\n",
       "      <td>0.052632</td>\n",
       "      <td>0.157895</td>\n",
       "      <td>0.284211</td>\n",
       "      <td>0.463158</td>\n",
       "      <td>0.610526</td>\n",
       "    </tr>\n",
       "    <tr>\n",
       "      <th>2</th>\n",
       "      <td>RNN</td>\n",
       "      <td>6409.056641</td>\n",
       "      <td>12.721907</td>\n",
       "      <td>9053.962891</td>\n",
       "      <td>6409.056641</td>\n",
       "      <td>0.126316</td>\n",
       "      <td>0.200000</td>\n",
       "      <td>0.231579</td>\n",
       "      <td>0.326316</td>\n",
       "      <td>0.442105</td>\n",
       "      <td>0.463158</td>\n",
       "    </tr>\n",
       "    <tr>\n",
       "      <th>3</th>\n",
       "      <td>LSTM</td>\n",
       "      <td>5254.456055</td>\n",
       "      <td>10.645926</td>\n",
       "      <td>6810.735840</td>\n",
       "      <td>5254.456055</td>\n",
       "      <td>0.063158</td>\n",
       "      <td>0.168421</td>\n",
       "      <td>0.231579</td>\n",
       "      <td>0.305263</td>\n",
       "      <td>0.357895</td>\n",
       "      <td>0.421053</td>\n",
       "    </tr>\n",
       "    <tr>\n",
       "      <th>4</th>\n",
       "      <td>GRU</td>\n",
       "      <td>3783.215820</td>\n",
       "      <td>7.684668</td>\n",
       "      <td>5214.731445</td>\n",
       "      <td>3783.215820</td>\n",
       "      <td>0.115789</td>\n",
       "      <td>0.263158</td>\n",
       "      <td>0.368421</td>\n",
       "      <td>0.494737</td>\n",
       "      <td>0.547368</td>\n",
       "      <td>0.621053</td>\n",
       "    </tr>\n",
       "    <tr>\n",
       "      <th>5</th>\n",
       "      <td>SARIMA</td>\n",
       "      <td>3195.841797</td>\n",
       "      <td>6.980060</td>\n",
       "      <td>4345.696492</td>\n",
       "      <td>3195.841797</td>\n",
       "      <td>0.147368</td>\n",
       "      <td>0.252632</td>\n",
       "      <td>0.347368</td>\n",
       "      <td>0.463158</td>\n",
       "      <td>0.526316</td>\n",
       "      <td>0.621053</td>\n",
       "    </tr>\n",
       "  </tbody>\n",
       "</table>\n",
       "</div>"
      ],
      "text/plain": [
       "    Model          MAE       MAPE         RMSE  Maximum error  Accuracy(500)  \\\n",
       "0     SVR  3359.374023   6.846053  4318.430965    3359.374023       0.094737   \n",
       "1     ANN  3658.720947   7.563893  4713.149902    3658.720947       0.031579   \n",
       "2     RNN  6409.056641  12.721907  9053.962891    6409.056641       0.126316   \n",
       "3    LSTM  5254.456055  10.645926  6810.735840    5254.456055       0.063158   \n",
       "4     GRU  3783.215820   7.684668  5214.731445    3783.215820       0.115789   \n",
       "5  SARIMA  3195.841797   6.980060  4345.696492    3195.841797       0.147368   \n",
       "\n",
       "   Accuracy(1000)  Accuracy(1500)  Accuracy(2000)  Accuracy(2500)  \\\n",
       "0        0.189474        0.315789        0.452632        0.484211   \n",
       "1        0.052632        0.157895        0.284211        0.463158   \n",
       "2        0.200000        0.231579        0.326316        0.442105   \n",
       "3        0.168421        0.231579        0.305263        0.357895   \n",
       "4        0.263158        0.368421        0.494737        0.547368   \n",
       "5        0.252632        0.347368        0.463158        0.526316   \n",
       "\n",
       "   Accuracy(3000)  \n",
       "0        0.547368  \n",
       "1        0.610526  \n",
       "2        0.463158  \n",
       "3        0.421053  \n",
       "4        0.621053  \n",
       "5        0.621053  "
      ]
     },
     "execution_count": 139,
     "metadata": {},
     "output_type": "execute_result"
    }
   ],
   "source": [
    "evaluation_results = pd.DataFrame(columns=[\"Model\",\"MAE\",\"MAPE\",\"RMSE\"])\n",
    "\n",
    "mae = tf.keras.losses.MeanAbsoluteError()\n",
    "mape = tf.keras.losses.MeanAbsolutePercentageError()\n",
    "mse = tf.keras.losses.MeanSquaredError()\n",
    "\n",
    "for i in range(1,performance.shape[1]):\n",
    "    \n",
    "    val_mae = mae(performance[\"Actual\"], performance.iloc[:,i]).numpy()\n",
    "    val_mape = mape(performance[\"Actual\"], performance.iloc[:,i]).numpy()\n",
    "    val_rmse = tf.math.sqrt(mse(performance[\"Actual\"], performance.iloc[:,i])).numpy()\n",
    "    val_max_error = tf.reduce_max(mae(performance[\"Actual\"], performance.iloc[:,i])).numpy()\n",
    "    accuracy = list()\n",
    "    \n",
    "    for threshold in range(500,3001,500):\n",
    "        \n",
    "        y_true = performance[\"Actual\"]\n",
    "        y_pred = performance.iloc[:,i]\n",
    "        \n",
    "        total_times = y_true.shape[0]\n",
    "        correct_times = 0\n",
    "        \n",
    "        for _ in range(total_times): \n",
    "\n",
    "            correct_times = np.count_nonzero(abs(y_true-y_pred) < threshold)\n",
    "        \n",
    "        accuracy.append(correct_times/total_times)\n",
    "\n",
    "    \n",
    "    new_result = pd.DataFrame({\n",
    "\n",
    "        \"Model\" : [performance.columns[i]],\n",
    "        \"MAE\" : [val_mae],\n",
    "        \"MAPE\" : [val_mape],\n",
    "        \"RMSE\" : [val_rmse],\n",
    "        \"Maximum error\":[val_max_error],\n",
    "        \"Accuracy(500)\" : accuracy[0],\n",
    "        \"Accuracy(1000)\" : accuracy[1],\n",
    "        \"Accuracy(1500)\" : accuracy[2],\n",
    "        \"Accuracy(2000)\" : accuracy[3],\n",
    "        \"Accuracy(2500)\" : accuracy[4],\n",
    "        \"Accuracy(3000)\" : accuracy[5]\n",
    "        \n",
    "    })\n",
    "\n",
    "    evaluation_results = evaluation_results.append(new_result, ignore_index=True)\n",
    "evaluation_results"
   ]
  },
  {
   "cell_type": "code",
   "execution_count": 67,
   "metadata": {},
   "outputs": [],
   "source": [
    "performance.to_csv(\"result.csv\", index=False)"
   ]
  },
  {
   "cell_type": "code",
   "execution_count": 140,
   "metadata": {},
   "outputs": [],
   "source": [
    "evaluation_results.to_csv(\"performance_indicator.csv\", index=False)"
   ]
  },
  {
   "cell_type": "code",
   "execution_count": null,
   "metadata": {},
   "outputs": [],
   "source": []
  }
 ],
 "metadata": {
  "kernelspec": {
   "display_name": "Python 3",
   "language": "python",
   "name": "python3"
  },
  "language_info": {
   "codemirror_mode": {
    "name": "ipython",
    "version": 3
   },
   "file_extension": ".py",
   "mimetype": "text/x-python",
   "name": "python",
   "nbconvert_exporter": "python",
   "pygments_lexer": "ipython3",
   "version": "3.6.9"
  }
 },
 "nbformat": 4,
 "nbformat_minor": 4
}
