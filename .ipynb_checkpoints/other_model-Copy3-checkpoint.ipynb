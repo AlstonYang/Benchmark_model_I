{
 "cells": [
  {
   "cell_type": "markdown",
   "metadata": {},
   "source": [
    "### Import related package."
   ]
  },
  {
   "cell_type": "code",
   "execution_count": 189,
   "metadata": {},
   "outputs": [],
   "source": [
    "## tensorflow\n",
    "import tensorflow as tf\n",
    "from tensorflow import keras\n",
    "from keras.models import Sequential\n",
    "from keras.layers import Dense, Dropout, GRU, Flatten, Input, LSTM, SimpleRNN\n",
    "from keras.utils.np_utils import to_categorical\n",
    "from keras.callbacks import EarlyStopping\n",
    "from tensorflow.keras.metrics import Metric\n",
    "\n",
    "## environment setting\n",
    "gpu_options = tf.compat.v1.GPUOptions(per_process_gpu_memory_fraction=0.3)\n",
    "sess = tf.compat.v1.Session(config=tf.compat.v1.ConfigProto(gpu_options=gpu_options))\n",
    "tf.compat.v1.keras.backend.set_session(sess)\n",
    "\n",
    "## Data preprocessing\n",
    "import numpy as np\n",
    "import pandas as pd\n",
    "from sklearn.preprocessing import MinMaxScaler\n",
    "sc = MinMaxScaler(feature_range = (0, 1))\n",
    "\n",
    "## Visulization\n",
    "import matplotlib.pyplot as plt\n",
    "\n",
    "## ARIMA and SARIMA\n",
    "from statsmodels.graphics.tsaplots import plot_acf, plot_pacf\n",
    "from pmdarima.arima import ndiffs\n",
    "from statsmodels.tsa.arima_model import ARIMA\n",
    "import pmdarima as pm ##Automatically decide on ARIMA configuration\n",
    "import statsmodels.api as sm\n",
    "\n",
    "## The warning infomation dialog\n",
    "import warnings\n",
    "warnings.filterwarnings(\"ignore\")"
   ]
  },
  {
   "cell_type": "markdown",
   "metadata": {},
   "source": [
    "## Prepare data for (SVM and ANN)"
   ]
  },
  {
   "cell_type": "code",
   "execution_count": 192,
   "metadata": {},
   "outputs": [],
   "source": [
    "def buildTrain(train, pastWeek=4, futureWeek=4, defaultWeek=1):\n",
    "    X_train, Y_train = [], []\n",
    "    for i in range(train.shape[0]-futureWeek-pastWeek+1):\n",
    "       \n",
    "        X = np.array(train.iloc[i:i+defaultWeek])\n",
    "        X = np.append(X,train[\"CCSP\"].iloc[i+defaultWeek:i+pastWeek])\n",
    "        \n",
    "        X_train.append(X.reshape(X.size))\n",
    "        Y_train.append(np.array(train.iloc[i+pastWeek:i+pastWeek+futureWeek][\"CCSP\"]))\n",
    "    \n",
    "    return np.array(X_train), np.array(Y_train)"
   ]
  },
  {
   "cell_type": "code",
   "execution_count": 225,
   "metadata": {},
   "outputs": [],
   "source": [
    "def get_data():\n",
    "    \n",
    "    ## Read weekly copper price data\n",
    "    path = \"WeeklyFinalData.csv\"\n",
    "    data = read(path)\n",
    "    \n",
    "    date = data[\"Date\"]\n",
    "    data.drop(\"Date\", axis=1, inplace=True)\n",
    "    \n",
    "    ## Add time lag (pastWeek=4, futureWeek=1)\n",
    "    x_data, y_data = buildTrain(data)\n",
    "    y_data = y_data[:,-1].reshape(-1,1)\n",
    "    \n",
    "    print(y_data.shape)\n",
    "    \n",
    "    ## Data split\n",
    "    x_train = x_data[0:int(x_data.shape[0]*0.8)]\n",
    "    x_test = x_data[int(x_data.shape[0]*0.8):]\n",
    "    \n",
    "    y_train = y_data[0:int(y_data.shape[0]*0.8)]\n",
    "    y_test = y_data[int(y_data.shape[0]*0.8):]\n",
    "    \n",
    "    return (x_train, x_test, y_train, y_test)"
   ]
  },
  {
   "cell_type": "code",
   "execution_count": 226,
   "metadata": {},
   "outputs": [
    {
     "name": "stdout",
     "output_type": "stream",
     "text": [
      "(472, 1)\n"
     ]
    }
   ],
   "source": [
    "x_train, x_test, y_train, y_test = get_data()"
   ]
  },
  {
   "cell_type": "code",
   "execution_count": 224,
   "metadata": {},
   "outputs": [
    {
     "data": {
      "text/plain": [
       "(95, 1)"
      ]
     },
     "execution_count": 224,
     "metadata": {},
     "output_type": "execute_result"
    }
   ],
   "source": [
    "y_test.shape"
   ]
  },
  {
   "cell_type": "code",
   "execution_count": 186,
   "metadata": {},
   "outputs": [],
   "source": [
    "x_train, x_test, y_train, y_test = get_data()\n",
    "x_train_scaled = sc.fit_transform(x_train)\n",
    "x_test_scaled = sc.transform(x_test)\n",
    "y_train_scaled = sc.fit_transform(y_train)\n",
    "\n",
    "\n",
    "performance = pd.DataFrame({\n",
    "    \n",
    "    \"Date\":date[-y_test.shape[0]:],\n",
    "    \"Actual\":y_test.reshape(-1)\n",
    "})\n",
    "\n",
    "performance.reset_index(inplace=True, drop=True)"
   ]
  },
  {
   "cell_type": "code",
   "execution_count": 187,
   "metadata": {},
   "outputs": [],
   "source": [
    "performance[\"MW-LTS-500\"] = pd.read_csv(\"MW-LTS-500.csv\", header=None)"
   ]
  },
  {
   "cell_type": "code",
   "execution_count": 188,
   "metadata": {},
   "outputs": [
    {
     "data": {
      "text/html": [
       "<div>\n",
       "<style scoped>\n",
       "    .dataframe tbody tr th:only-of-type {\n",
       "        vertical-align: middle;\n",
       "    }\n",
       "\n",
       "    .dataframe tbody tr th {\n",
       "        vertical-align: top;\n",
       "    }\n",
       "\n",
       "    .dataframe thead th {\n",
       "        text-align: right;\n",
       "    }\n",
       "</style>\n",
       "<table border=\"1\" class=\"dataframe\">\n",
       "  <thead>\n",
       "    <tr style=\"text-align: right;\">\n",
       "      <th></th>\n",
       "      <th>Date</th>\n",
       "      <th>Actual</th>\n",
       "      <th>MW-LTS-500</th>\n",
       "    </tr>\n",
       "  </thead>\n",
       "  <tbody>\n",
       "    <tr>\n",
       "      <th>0</th>\n",
       "      <td>2019/3/11</td>\n",
       "      <td>50018.0</td>\n",
       "      <td>49256.95</td>\n",
       "    </tr>\n",
       "    <tr>\n",
       "      <th>1</th>\n",
       "      <td>2019/3/18</td>\n",
       "      <td>49788.0</td>\n",
       "      <td>49344.99</td>\n",
       "    </tr>\n",
       "    <tr>\n",
       "      <th>2</th>\n",
       "      <td>2019/3/25</td>\n",
       "      <td>50146.0</td>\n",
       "      <td>49158.11</td>\n",
       "    </tr>\n",
       "    <tr>\n",
       "      <th>3</th>\n",
       "      <td>2019/4/1</td>\n",
       "      <td>49444.0</td>\n",
       "      <td>48837.90</td>\n",
       "    </tr>\n",
       "    <tr>\n",
       "      <th>4</th>\n",
       "      <td>2019/4/8</td>\n",
       "      <td>49367.0</td>\n",
       "      <td>48549.62</td>\n",
       "    </tr>\n",
       "    <tr>\n",
       "      <th>...</th>\n",
       "      <td>...</td>\n",
       "      <td>...</td>\n",
       "      <td>...</td>\n",
       "    </tr>\n",
       "    <tr>\n",
       "      <th>90</th>\n",
       "      <td>2020/11/30</td>\n",
       "      <td>54890.0</td>\n",
       "      <td>52383.80</td>\n",
       "    </tr>\n",
       "    <tr>\n",
       "      <th>91</th>\n",
       "      <td>2020/12/7</td>\n",
       "      <td>57448.0</td>\n",
       "      <td>52883.99</td>\n",
       "    </tr>\n",
       "    <tr>\n",
       "      <th>92</th>\n",
       "      <td>2020/12/14</td>\n",
       "      <td>57418.0</td>\n",
       "      <td>53338.99</td>\n",
       "    </tr>\n",
       "    <tr>\n",
       "      <th>93</th>\n",
       "      <td>2020/12/21</td>\n",
       "      <td>58154.0</td>\n",
       "      <td>54502.99</td>\n",
       "    </tr>\n",
       "    <tr>\n",
       "      <th>94</th>\n",
       "      <td>2020/12/28</td>\n",
       "      <td>58320.0</td>\n",
       "      <td>NaN</td>\n",
       "    </tr>\n",
       "  </tbody>\n",
       "</table>\n",
       "<p>95 rows × 3 columns</p>\n",
       "</div>"
      ],
      "text/plain": [
       "          Date   Actual  MW-LTS-500\n",
       "0    2019/3/11  50018.0    49256.95\n",
       "1    2019/3/18  49788.0    49344.99\n",
       "2    2019/3/25  50146.0    49158.11\n",
       "3     2019/4/1  49444.0    48837.90\n",
       "4     2019/4/8  49367.0    48549.62\n",
       "..         ...      ...         ...\n",
       "90  2020/11/30  54890.0    52383.80\n",
       "91   2020/12/7  57448.0    52883.99\n",
       "92  2020/12/14  57418.0    53338.99\n",
       "93  2020/12/21  58154.0    54502.99\n",
       "94  2020/12/28  58320.0         NaN\n",
       "\n",
       "[95 rows x 3 columns]"
      ]
     },
     "execution_count": 188,
     "metadata": {},
     "output_type": "execute_result"
    }
   ],
   "source": [
    "performance"
   ]
  },
  {
   "cell_type": "markdown",
   "metadata": {},
   "source": [
    "### Modeling for SVR"
   ]
  },
  {
   "cell_type": "code",
   "execution_count": 98,
   "metadata": {},
   "outputs": [],
   "source": [
    "from sklearn.svm import SVR"
   ]
  },
  {
   "cell_type": "code",
   "execution_count": 99,
   "metadata": {},
   "outputs": [
    {
     "data": {
      "text/plain": [
       "SVR(C=1000.0, gamma=0.1)"
      ]
     },
     "execution_count": 99,
     "metadata": {},
     "output_type": "execute_result"
    }
   ],
   "source": [
    "svr_rbf = SVR(kernel = 'rbf', C=1e3 , gamma = 0.1)\n",
    "svr_rbf.fit(x_train_scaled, y_train_scaled)\n",
    "SVR_predict = svr_rbf.predict(x_test_scaled).reshape(-1,1)\n",
    "performance[\"SVR\"] = sc.inverse_transform(SVR_predict).reshape(-1)"
   ]
  },
  {
   "cell_type": "markdown",
   "metadata": {},
   "source": [
    "### Modeling for ANN"
   ]
  },
  {
   "cell_type": "code",
   "execution_count": 101,
   "metadata": {},
   "outputs": [],
   "source": [
    "def buildTwoLayerNN(input_shape):\n",
    "\n",
    "    keras.backend.clear_session()\n",
    "    model = Sequential()\n",
    "    model.add(Dense(units=8, activation =\"relu\", input_shape=(input_shape,)))\n",
    "    model.add(Dense(units=1)) \n",
    "\n",
    "    model.compile(optimizer=\"Adam\", loss=\"mean_squared_error\")\n",
    "\n",
    "    return model"
   ]
  },
  {
   "cell_type": "code",
   "execution_count": 102,
   "metadata": {},
   "outputs": [],
   "source": [
    "input_shape = x_train_scaled.shape[1]\n",
    "model = buildTwoLayerNN(input_shape)\n",
    "model.fit(x_train_scaled, y_train_scaled, epochs=300, batch_size=14, verbose=0)\n",
    "ANN_predict = model.predict(x_test_scaled)\n",
    "performance[\"ANN\"] = sc.inverse_transform(ANN_predict).flatten()"
   ]
  },
  {
   "cell_type": "markdown",
   "metadata": {},
   "source": [
    "## Prepare data for RNN-based model (RNN, LSTM, GRU)"
   ]
  },
  {
   "cell_type": "code",
   "execution_count": 143,
   "metadata": {},
   "outputs": [],
   "source": [
    "def buildTrain(train, pastWeek, futureWeek=4, defaultWeek=1):\n",
    "    X_train, Y_train = [], []\n",
    "    for i in range(train.shape[0]-futureWeek-pastWeek+1):\n",
    "        \n",
    "        X = np.array(train.iloc[i:i+pastWeek,:])\n",
    "        \n",
    "        X_train.append(X.reshape(X.size))\n",
    "        Y_train.append(np.array(train.iloc[i+pastWeek:i+pastWeek+futureWeek][\"CCSP\"]))\n",
    "    return (np.array(X_train), np.array(Y_train))"
   ]
  },
  {
   "cell_type": "code",
   "execution_count": 144,
   "metadata": {},
   "outputs": [],
   "source": [
    "def get_data(timeLag):\n",
    "    \n",
    "    ## Read weekly copper price data\n",
    "    path = \"WeeklyFinalData.csv\"\n",
    "    data = read(path)\n",
    "    \n",
    "    date = data[\"Date\"]\n",
    "    data.drop(\"Date\", axis=1, inplace=True)\n",
    "    \n",
    "    ## Add time lag (pastWeek=4, futureWeek=1)\n",
    "    x_data, y_data = buildTrain(data, timeLag)\n",
    "    \n",
    "    y_data = y_data[:,-1].reshape(-1,1)\n",
    "    \n",
    "    ## Data split\n",
    "    x_train = x_data[0:int(x_data.shape[0]*0.8)]\n",
    "    x_test = x_data[int(x_data.shape[0]*0.8):]\n",
    "    \n",
    "    y_train = y_data[0:int(y_data.shape[0]*0.8)]\n",
    "    y_test = y_data[int(y_data.shape[0]*0.8):]\n",
    "    \n",
    "    \n",
    "    return (x_train, x_test, y_train, y_test)"
   ]
  },
  {
   "cell_type": "code",
   "execution_count": 145,
   "metadata": {},
   "outputs": [],
   "source": [
    "x_train, x_test, y_train, y_test = get_data(4)\n",
    "y_train = y_train.reshape(-1,1)\n",
    "y_test = y_test.reshape(-1,1)\n",
    "## The number of forecasting variable (# of variable)\n",
    "nb_input_factor = 15\n",
    "\n",
    "## Data transformation\n",
    "x_train_scaled = sc.fit_transform(x_train).reshape(-1,4,nb_input_factor)\n",
    "x_test_scaled = sc.transform(x_test).reshape(-1,4,nb_input_factor)\n",
    "y_train_scaled = sc.fit_transform(y_train)"
   ]
  },
  {
   "cell_type": "markdown",
   "metadata": {},
   "source": [
    "### Modeling for RNN"
   ]
  },
  {
   "cell_type": "code",
   "execution_count": 151,
   "metadata": {},
   "outputs": [],
   "source": [
    "def buildRNN(shape):\n",
    "    \n",
    "    keras.backend.clear_session()\n",
    "    model = keras.Sequential()\n",
    "    model.add(SimpleRNN(28, input_shape=(shape[1], shape[2])))\n",
    "    model.add(Dense(1))\n",
    "    model.compile(optimizer=\"Adam\", loss=\"mse\")\n",
    "#     model.summary()\n",
    "    return model"
   ]
  },
  {
   "cell_type": "code",
   "execution_count": 152,
   "metadata": {},
   "outputs": [
    {
     "name": "stdout",
     "output_type": "stream",
     "text": [
      "WARNING:tensorflow:5 out of the last 13 calls to <function Model.make_predict_function.<locals>.predict_function at 0x7f59e1f6d400> triggered tf.function retracing. Tracing is expensive and the excessive number of tracings could be due to (1) creating @tf.function repeatedly in a loop, (2) passing tensors with different shapes, (3) passing Python objects instead of tensors. For (1), please define your @tf.function outside of the loop. For (2), @tf.function has experimental_relax_shapes=True option that relaxes argument shapes that can avoid unnecessary retracing. For (3), please refer to https://www.tensorflow.org/tutorials/customization/performance#python_or_tensor_args and https://www.tensorflow.org/api_docs/python/tf/function for  more details.\n"
     ]
    }
   ],
   "source": [
    "model = buildRNN(x_train_scaled.shape)\n",
    "model.fit(x_train_scaled, y_train_scaled, epochs=300, batch_size=14, verbose=0)\n",
    "RNN_predict = model.predict(x_test_scaled)\n",
    "performance[\"RNN\"] = sc.inverse_transform(RNN_predict).flatten()"
   ]
  },
  {
   "cell_type": "markdown",
   "metadata": {},
   "source": [
    "### Modeling for LSTM"
   ]
  },
  {
   "cell_type": "code",
   "execution_count": 154,
   "metadata": {},
   "outputs": [],
   "source": [
    "def buildLSTM(shape):\n",
    "    \n",
    "    model = Sequential()\n",
    "    model.add(LSTM(28, input_shape=(shape[1], shape[2])))\n",
    "    model.add(Dense(1))\n",
    "    model.compile(optimizer=\"Adam\", loss=\"mse\")\n",
    "#     model.summary()\n",
    "    return model"
   ]
  },
  {
   "cell_type": "code",
   "execution_count": 155,
   "metadata": {},
   "outputs": [
    {
     "name": "stdout",
     "output_type": "stream",
     "text": [
      "WARNING:tensorflow:5 out of the last 13 calls to <function Model.make_predict_function.<locals>.predict_function at 0x7f5a17e0dbf8> triggered tf.function retracing. Tracing is expensive and the excessive number of tracings could be due to (1) creating @tf.function repeatedly in a loop, (2) passing tensors with different shapes, (3) passing Python objects instead of tensors. For (1), please define your @tf.function outside of the loop. For (2), @tf.function has experimental_relax_shapes=True option that relaxes argument shapes that can avoid unnecessary retracing. For (3), please refer to https://www.tensorflow.org/tutorials/customization/performance#python_or_tensor_args and https://www.tensorflow.org/api_docs/python/tf/function for  more details.\n"
     ]
    }
   ],
   "source": [
    "model = buildLSTM(x_train_scaled.shape)\n",
    "model.fit(x_train_scaled, y_train_scaled, epochs=300, batch_size=14, verbose=0)\n",
    "LSTM_predict = model.predict(x_test_scaled)\n",
    "performance[\"LSTM\"] = sc.inverse_transform(LSTM_predict).flatten()"
   ]
  },
  {
   "cell_type": "markdown",
   "metadata": {},
   "source": [
    "### Modeling for GRU"
   ]
  },
  {
   "cell_type": "code",
   "execution_count": 116,
   "metadata": {},
   "outputs": [],
   "source": [
    "def buildGRU(shape):\n",
    "    \n",
    "    model = Sequential()\n",
    "    model.add(GRU(28, input_shape=(shape[1], shape[2])))\n",
    "    model.add(Dense(1))\n",
    "    model.compile(optimizer=\"Adam\", loss=\"mse\")\n",
    "#     model.summary()\n",
    "    return model"
   ]
  },
  {
   "cell_type": "code",
   "execution_count": 117,
   "metadata": {},
   "outputs": [
    {
     "name": "stdout",
     "output_type": "stream",
     "text": [
      "WARNING:tensorflow:5 out of the last 13 calls to <function Model.make_predict_function.<locals>.predict_function at 0x7f5a08483378> triggered tf.function retracing. Tracing is expensive and the excessive number of tracings could be due to (1) creating @tf.function repeatedly in a loop, (2) passing tensors with different shapes, (3) passing Python objects instead of tensors. For (1), please define your @tf.function outside of the loop. For (2), @tf.function has experimental_relax_shapes=True option that relaxes argument shapes that can avoid unnecessary retracing. For (3), please refer to https://www.tensorflow.org/tutorials/customization/performance#python_or_tensor_args and https://www.tensorflow.org/api_docs/python/tf/function for  more details.\n"
     ]
    }
   ],
   "source": [
    "model = buildGRU(x_train_scaled.shape)\n",
    "model.fit(x_train_scaled, y_train_scaled, epochs=300, batch_size=14, verbose=0)\n",
    "GRU_predict = model.predict(x_test_scaled)\n",
    "performance[\"GRU\"] = sc.inverse_transform(GRU_predict).flatten()"
   ]
  },
  {
   "cell_type": "markdown",
   "metadata": {},
   "source": [
    "## Prepare data for SARIMA"
   ]
  },
  {
   "cell_type": "code",
   "execution_count": 163,
   "metadata": {},
   "outputs": [],
   "source": [
    "def read(path):\n",
    "    return pd.read_csv(path)"
   ]
  },
  {
   "cell_type": "code",
   "execution_count": 164,
   "metadata": {},
   "outputs": [],
   "source": [
    "path = \"WeeklyFinalData.csv\"\n",
    "data = read(path)\n",
    "train = data[\"CCSP\"][:-95]\n",
    "test = data[\"CCSP\"][-95:]\n",
    "data = data[\"CCSP\"]"
   ]
  },
  {
   "cell_type": "markdown",
   "metadata": {},
   "source": [
    "### Model the SARIMA model"
   ]
  },
  {
   "cell_type": "code",
   "execution_count": 165,
   "metadata": {},
   "outputs": [],
   "source": [
    "model = sm.tsa.statespace.SARIMAX(train, order=(1,1,0), seasonal_order=(0,1,2,53))\n",
    "model_fit = model.fit()\n",
    "pre = model_fit.forecast(95)\n",
    "pre.reset_index(inplace=True, drop=True)\n",
    "performance[\"SARIMA\"]=pre"
   ]
  },
  {
   "cell_type": "markdown",
   "metadata": {},
   "source": [
    "## Visualize for the result"
   ]
  },
  {
   "cell_type": "code",
   "execution_count": 118,
   "metadata": {},
   "outputs": [
    {
     "data": {
      "text/html": [
       "<div>\n",
       "<style scoped>\n",
       "    .dataframe tbody tr th:only-of-type {\n",
       "        vertical-align: middle;\n",
       "    }\n",
       "\n",
       "    .dataframe tbody tr th {\n",
       "        vertical-align: top;\n",
       "    }\n",
       "\n",
       "    .dataframe thead th {\n",
       "        text-align: right;\n",
       "    }\n",
       "</style>\n",
       "<table border=\"1\" class=\"dataframe\">\n",
       "  <thead>\n",
       "    <tr style=\"text-align: right;\">\n",
       "      <th></th>\n",
       "      <th>Actual</th>\n",
       "      <th>SVR</th>\n",
       "      <th>ANN</th>\n",
       "      <th>RNN</th>\n",
       "      <th>LSTM</th>\n",
       "      <th>GRU</th>\n",
       "    </tr>\n",
       "  </thead>\n",
       "  <tbody>\n",
       "    <tr>\n",
       "      <th>384</th>\n",
       "      <td>49788.0</td>\n",
       "      <td>48135.166059</td>\n",
       "      <td>47782.941406</td>\n",
       "      <td>47415.886719</td>\n",
       "      <td>47566.527344</td>\n",
       "      <td>48011.613281</td>\n",
       "    </tr>\n",
       "    <tr>\n",
       "      <th>385</th>\n",
       "      <td>50146.0</td>\n",
       "      <td>48948.203704</td>\n",
       "      <td>48499.882812</td>\n",
       "      <td>47791.750000</td>\n",
       "      <td>47537.136719</td>\n",
       "      <td>47771.746094</td>\n",
       "    </tr>\n",
       "    <tr>\n",
       "      <th>386</th>\n",
       "      <td>49444.0</td>\n",
       "      <td>49661.201587</td>\n",
       "      <td>50326.609375</td>\n",
       "      <td>47813.984375</td>\n",
       "      <td>47759.332031</td>\n",
       "      <td>48807.617188</td>\n",
       "    </tr>\n",
       "    <tr>\n",
       "      <th>387</th>\n",
       "      <td>49367.0</td>\n",
       "      <td>49215.011130</td>\n",
       "      <td>51275.125000</td>\n",
       "      <td>48359.351562</td>\n",
       "      <td>48249.261719</td>\n",
       "      <td>49391.304688</td>\n",
       "    </tr>\n",
       "    <tr>\n",
       "      <th>388</th>\n",
       "      <td>49346.0</td>\n",
       "      <td>49746.141278</td>\n",
       "      <td>50996.105469</td>\n",
       "      <td>48651.281250</td>\n",
       "      <td>48350.480469</td>\n",
       "      <td>49967.429688</td>\n",
       "    </tr>\n",
       "    <tr>\n",
       "      <th>...</th>\n",
       "      <td>...</td>\n",
       "      <td>...</td>\n",
       "      <td>...</td>\n",
       "      <td>...</td>\n",
       "      <td>...</td>\n",
       "      <td>...</td>\n",
       "    </tr>\n",
       "    <tr>\n",
       "      <th>474</th>\n",
       "      <td>57448.0</td>\n",
       "      <td>47752.940170</td>\n",
       "      <td>51492.972656</td>\n",
       "      <td>33250.949219</td>\n",
       "      <td>35837.628906</td>\n",
       "      <td>41760.039062</td>\n",
       "    </tr>\n",
       "    <tr>\n",
       "      <th>475</th>\n",
       "      <td>57418.0</td>\n",
       "      <td>48847.125130</td>\n",
       "      <td>51402.292969</td>\n",
       "      <td>33972.195312</td>\n",
       "      <td>38839.484375</td>\n",
       "      <td>42105.300781</td>\n",
       "    </tr>\n",
       "    <tr>\n",
       "      <th>476</th>\n",
       "      <td>58154.0</td>\n",
       "      <td>49689.940322</td>\n",
       "      <td>53500.410156</td>\n",
       "      <td>33276.339844</td>\n",
       "      <td>39623.335938</td>\n",
       "      <td>42866.656250</td>\n",
       "    </tr>\n",
       "    <tr>\n",
       "      <th>477</th>\n",
       "      <td>58320.0</td>\n",
       "      <td>51477.896521</td>\n",
       "      <td>53652.347656</td>\n",
       "      <td>33669.628906</td>\n",
       "      <td>40854.511719</td>\n",
       "      <td>44497.914062</td>\n",
       "    </tr>\n",
       "    <tr>\n",
       "      <th>478</th>\n",
       "      <td>58336.0</td>\n",
       "      <td>52397.287070</td>\n",
       "      <td>55515.941406</td>\n",
       "      <td>34497.015625</td>\n",
       "      <td>41801.656250</td>\n",
       "      <td>45426.003906</td>\n",
       "    </tr>\n",
       "  </tbody>\n",
       "</table>\n",
       "<p>95 rows × 6 columns</p>\n",
       "</div>"
      ],
      "text/plain": [
       "      Actual           SVR           ANN           RNN          LSTM  \\\n",
       "384  49788.0  48135.166059  47782.941406  47415.886719  47566.527344   \n",
       "385  50146.0  48948.203704  48499.882812  47791.750000  47537.136719   \n",
       "386  49444.0  49661.201587  50326.609375  47813.984375  47759.332031   \n",
       "387  49367.0  49215.011130  51275.125000  48359.351562  48249.261719   \n",
       "388  49346.0  49746.141278  50996.105469  48651.281250  48350.480469   \n",
       "..       ...           ...           ...           ...           ...   \n",
       "474  57448.0  47752.940170  51492.972656  33250.949219  35837.628906   \n",
       "475  57418.0  48847.125130  51402.292969  33972.195312  38839.484375   \n",
       "476  58154.0  49689.940322  53500.410156  33276.339844  39623.335938   \n",
       "477  58320.0  51477.896521  53652.347656  33669.628906  40854.511719   \n",
       "478  58336.0  52397.287070  55515.941406  34497.015625  41801.656250   \n",
       "\n",
       "              GRU  \n",
       "384  48011.613281  \n",
       "385  47771.746094  \n",
       "386  48807.617188  \n",
       "387  49391.304688  \n",
       "388  49967.429688  \n",
       "..            ...  \n",
       "474  41760.039062  \n",
       "475  42105.300781  \n",
       "476  42866.656250  \n",
       "477  44497.914062  \n",
       "478  45426.003906  \n",
       "\n",
       "[95 rows x 6 columns]"
      ]
     },
     "execution_count": 118,
     "metadata": {},
     "output_type": "execute_result"
    }
   ],
   "source": [
    "performance.drop([\"Date\"], axis=1)\n",
    "performance.reset_index(inplace=True, drop=True)"
   ]
  },
  {
   "cell_type": "markdown",
   "metadata": {},
   "source": [
    "# Plot a graph comparing the predicted value with the actual value."
   ]
  },
  {
   "cell_type": "code",
   "execution_count": 121,
   "metadata": {},
   "outputs": [
    {
     "data": {
      "image/png": "[encoded data removed]",
      "text/plain": [
       "<Figure size 1080x576 with 1 Axes>"
      ]
     },
     "metadata": {
      "needs_background": "light"
     },
     "output_type": "display_data"
    }
   ],
   "source": [
    "plt.figure(figsize=(15,8))\n",
    "\n",
    "plt.plot(range(performance[\"Actual\"].shape[0]), performance[\"Actual\"], \"-o\",color='black', label = 'Actual')\n",
    "\n",
    "for i in range(1,performance.shape[1]):\n",
    "    t_data = performance.iloc[:,i]\n",
    "    plt.plot(t_data, label=performance.columns[i])\n",
    "\n",
    "plt.legend()\n",
    "plt.xlabel(\"Sample index (weekly)\")\n",
    "plt.ylabel(\"Cooper price value\")\n",
    "plt.savefig('RMSE.png')"
   ]
  },
  {
   "cell_type": "markdown",
   "metadata": {},
   "source": [
    "# Create the function to evaluate the performance of each model based on the RMSE, MAE, MAPE, and the accuracy from 500 to 3000 tolerance."
   ]
  },
  {
   "cell_type": "code",
   "execution_count": 96,
   "metadata": {},
   "outputs": [
    {
     "data": {
      "text/html": [
       "<div>\n",
       "<style scoped>\n",
       "    .dataframe tbody tr th:only-of-type {\n",
       "        vertical-align: middle;\n",
       "    }\n",
       "\n",
       "    .dataframe tbody tr th {\n",
       "        vertical-align: top;\n",
       "    }\n",
       "\n",
       "    .dataframe thead th {\n",
       "        text-align: right;\n",
       "    }\n",
       "</style>\n",
       "<table border=\"1\" class=\"dataframe\">\n",
       "  <thead>\n",
       "    <tr style=\"text-align: right;\">\n",
       "      <th></th>\n",
       "      <th>Model</th>\n",
       "      <th>MAE</th>\n",
       "      <th>MAPE</th>\n",
       "      <th>RMSE</th>\n",
       "      <th>Accuracy(500)</th>\n",
       "      <th>Accuracy(1000)</th>\n",
       "      <th>Accuracy(1500)</th>\n",
       "      <th>Accuracy(2000)</th>\n",
       "      <th>Accuracy(2500)</th>\n",
       "      <th>Accuracy(3000)</th>\n",
       "    </tr>\n",
       "  </thead>\n",
       "  <tbody>\n",
       "    <tr>\n",
       "      <th>0</th>\n",
       "      <td>MW-GA-GRU</td>\n",
       "      <td>1088.425049</td>\n",
       "      <td>2.315730</td>\n",
       "      <td>1515.365880</td>\n",
       "      <td>0.326087</td>\n",
       "      <td>0.565217</td>\n",
       "      <td>0.771739</td>\n",
       "      <td>0.847826</td>\n",
       "      <td>0.913043</td>\n",
       "      <td>0.956522</td>\n",
       "    </tr>\n",
       "    <tr>\n",
       "      <th>1</th>\n",
       "      <td>ARIMA</td>\n",
       "      <td>3229.401611</td>\n",
       "      <td>6.470435</td>\n",
       "      <td>4527.191845</td>\n",
       "      <td>0.130435</td>\n",
       "      <td>0.369565</td>\n",
       "      <td>0.423913</td>\n",
       "      <td>0.478261</td>\n",
       "      <td>0.554348</td>\n",
       "      <td>0.619565</td>\n",
       "    </tr>\n",
       "    <tr>\n",
       "      <th>2</th>\n",
       "      <td>SVR</td>\n",
       "      <td>1874.975098</td>\n",
       "      <td>4.005716</td>\n",
       "      <td>2313.280031</td>\n",
       "      <td>0.086957</td>\n",
       "      <td>0.239130</td>\n",
       "      <td>0.478261</td>\n",
       "      <td>0.663043</td>\n",
       "      <td>0.771739</td>\n",
       "      <td>0.847826</td>\n",
       "    </tr>\n",
       "    <tr>\n",
       "      <th>3</th>\n",
       "      <td>ANN</td>\n",
       "      <td>1587.779053</td>\n",
       "      <td>3.218047</td>\n",
       "      <td>2369.448975</td>\n",
       "      <td>0.336957</td>\n",
       "      <td>0.565217</td>\n",
       "      <td>0.652174</td>\n",
       "      <td>0.728261</td>\n",
       "      <td>0.750000</td>\n",
       "      <td>0.793478</td>\n",
       "    </tr>\n",
       "    <tr>\n",
       "      <th>4</th>\n",
       "      <td>LSTM</td>\n",
       "      <td>2296.654785</td>\n",
       "      <td>4.697447</td>\n",
       "      <td>2758.138672</td>\n",
       "      <td>0.054348</td>\n",
       "      <td>0.119565</td>\n",
       "      <td>0.282609</td>\n",
       "      <td>0.554348</td>\n",
       "      <td>0.695652</td>\n",
       "      <td>0.771739</td>\n",
       "    </tr>\n",
       "    <tr>\n",
       "      <th>5</th>\n",
       "      <td>GRU</td>\n",
       "      <td>1974.753418</td>\n",
       "      <td>3.910425</td>\n",
       "      <td>2849.153320</td>\n",
       "      <td>0.304348</td>\n",
       "      <td>0.510870</td>\n",
       "      <td>0.641304</td>\n",
       "      <td>0.663043</td>\n",
       "      <td>0.663043</td>\n",
       "      <td>0.695652</td>\n",
       "    </tr>\n",
       "    <tr>\n",
       "      <th>6</th>\n",
       "      <td>RNN</td>\n",
       "      <td>2183.991943</td>\n",
       "      <td>4.431569</td>\n",
       "      <td>2806.131592</td>\n",
       "      <td>0.097826</td>\n",
       "      <td>0.315217</td>\n",
       "      <td>0.402174</td>\n",
       "      <td>0.565217</td>\n",
       "      <td>0.684783</td>\n",
       "      <td>0.760870</td>\n",
       "    </tr>\n",
       "  </tbody>\n",
       "</table>\n",
       "</div>"
      ],
      "text/plain": [
       "       Model          MAE      MAPE         RMSE  Accuracy(500)  \\\n",
       "0  MW-GA-GRU  1088.425049  2.315730  1515.365880       0.326087   \n",
       "1      ARIMA  3229.401611  6.470435  4527.191845       0.130435   \n",
       "2        SVR  1874.975098  4.005716  2313.280031       0.086957   \n",
       "3        ANN  1587.779053  3.218047  2369.448975       0.336957   \n",
       "4       LSTM  2296.654785  4.697447  2758.138672       0.054348   \n",
       "5        GRU  1974.753418  3.910425  2849.153320       0.304348   \n",
       "6        RNN  2183.991943  4.431569  2806.131592       0.097826   \n",
       "\n",
       "   Accuracy(1000)  Accuracy(1500)  Accuracy(2000)  Accuracy(2500)  \\\n",
       "0        0.565217        0.771739        0.847826        0.913043   \n",
       "1        0.369565        0.423913        0.478261        0.554348   \n",
       "2        0.239130        0.478261        0.663043        0.771739   \n",
       "3        0.565217        0.652174        0.728261        0.750000   \n",
       "4        0.119565        0.282609        0.554348        0.695652   \n",
       "5        0.510870        0.641304        0.663043        0.663043   \n",
       "6        0.315217        0.402174        0.565217        0.684783   \n",
       "\n",
       "   Accuracy(3000)  \n",
       "0        0.956522  \n",
       "1        0.619565  \n",
       "2        0.847826  \n",
       "3        0.793478  \n",
       "4        0.771739  \n",
       "5        0.695652  \n",
       "6        0.760870  "
      ]
     },
     "execution_count": 96,
     "metadata": {},
     "output_type": "execute_result"
    }
   ],
   "source": [
    "evaluation_results = pd.DataFrame(columns=[\"Model\",\"MAE\",\"MAPE\",\"RMSE\"])\n",
    "\n",
    "mae = tf.keras.losses.MeanAbsoluteError()\n",
    "mape = tf.keras.losses.MeanAbsolutePercentageError()\n",
    "mse = tf.keras.losses.MeanSquaredError()\n",
    "\n",
    "for i in range(1,performance.shape[1]):\n",
    "    \n",
    "    val_mae = mae(performance[\"Actual\"], performance.iloc[:,i]).numpy()\n",
    "    val_mape = mape(performance[\"Actual\"], performance.iloc[:,i]).numpy()\n",
    "    val_rmse = tf.math.sqrt(mse(performance[\"Actual\"], performance.iloc[:,i])).numpy()\n",
    "    accuracy = list()\n",
    "    \n",
    "    for threshold in range(500,3001,500):\n",
    "        \n",
    "        y_true = performance[\"Actual\"]\n",
    "        y_pred = performance.iloc[:,i]\n",
    "        \n",
    "        total_times = y_true.shape[0]\n",
    "        correct_times = 0\n",
    "        \n",
    "        for _ in range(total_times): \n",
    "\n",
    "            correct_times = np.count_nonzero(abs(y_true-y_pred) < threshold)\n",
    "        \n",
    "        accuracy.append(correct_times/total_times)\n",
    "\n",
    "    \n",
    "    new_result = pd.DataFrame({\n",
    "\n",
    "        \"Model\" : [performance.columns[i]],\n",
    "        \"MAE\" : [val_mae],\n",
    "        \"\",\n",
    "        \"MAPE\" : [val_mape],\n",
    "        \"RMSE\" : [val_rmse],\n",
    "        \"Accuracy(500)\" : accuracy[0],\n",
    "        \"Accuracy(1000)\" : accuracy[1],\n",
    "        \"Accuracy(1500)\" : accuracy[2],\n",
    "        \"Accuracy(2000)\" : accuracy[3],\n",
    "        \"Accuracy(2500)\" : accuracy[4],\n",
    "        \"Accuracy(3000)\" : accuracy[5]\n",
    "        \n",
    "    })\n",
    "\n",
    "    evaluation_results = evaluation_results.append(new_result, ignore_index=True)\n",
    "evaluation_results"
   ]
  },
  {
   "cell_type": "code",
   "execution_count": 97,
   "metadata": {},
   "outputs": [],
   "source": [
    "performance.to_csv(\"result.csv\", index=False)"
   ]
  }
 ],
 "metadata": {
  "kernelspec": {
   "display_name": "Python 3",
   "language": "python",
   "name": "python3"
  },
  "language_info": {
   "codemirror_mode": {
    "name": "ipython",
    "version": 3
   },
   "file_extension": ".py",
   "mimetype": "text/x-python",
   "name": "python",
   "nbconvert_exporter": "python",
   "pygments_lexer": "ipython3",
   "version": "3.6.9"
  }
 },
 "nbformat": 4,
 "nbformat_minor": 4
}
